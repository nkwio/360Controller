{
  "nbformat": 4,
  "nbformat_minor": 0,
  "metadata": {
    "colab": {
      "name": "Absenteeism_Data_Import_NKW.ipynb",
      "provenance": [],
      "collapsed_sections": [
        "15n2JXtFGwJs"
      ],
      "toc_visible": true,
      "authorship_tag": "ABX9TyO0AmkXZRrtZwc8U9j6gXK7",
      "include_colab_link": true
    },
    "kernelspec": {
      "name": "python3",
      "display_name": "Python 3"
    }
  },
  "cells": [
    {
      "cell_type": "markdown",
      "metadata": {
        "id": "view-in-github",
        "colab_type": "text"
      },
      "source": [
        "<a href=\"https://colab.research.google.com/github/nkwio/360Controller/blob/master/Absenteeism_Data_Import_NKW.ipynb\" target=\"_parent\"><img src=\"https://colab.research.google.com/assets/colab-badge.svg\" alt=\"Open In Colab\"/></a>"
      ]
    },
    {
      "cell_type": "markdown",
      "metadata": {
        "id": "15n2JXtFGwJs",
        "colab_type": "text"
      },
      "source": [
        "## Notes on Code"
      ]
    },
    {
      "cell_type": "markdown",
      "metadata": {
        "id": "jGSRWWyjG4wO",
        "colab_type": "text"
      },
      "source": [
        "**Author :**  Neil Walker\n",
        "**Date :**     7th April 2020  \n",
        "**Purpose :**  Training  \n",
        "**Overview :** Opens up data file and preprocesses ready for use by an  \n",
        "              Artifical Neural Net in order to predict levels of absenteeism on a  \n",
        "              person by person basis."
      ]
    },
    {
      "cell_type": "markdown",
      "metadata": {
        "id": "A_WOZT21I7e1",
        "colab_type": "text"
      },
      "source": [
        "Examine the ‘Absenteeism_data.csv’ carefully. Then, use the following as a guide to how you should prepare the data for further\n",
        "analysis:\n",
        "  \n",
        "  Drop the ‘ID’ column  \n",
        "  Split the reasons for absence into multiple dummy variables, and then group them in the following way:  \n",
        "  Group 1: Columns 1 to 14  \n",
        "  Group 2: Columns 15, 16, and 17  \n",
        "  Group 3: Columns 18, 19, 20, and 21  \n",
        "  Group 4: Columns 22 to 28  \n",
        "    After you’ve done that, don’t forget to drop the ‘Reason for Absence’ column.  \n",
        "    Extract the month value and the day of the week from the ‘Date’ column. Then, drop the ‘Date’ column as well.  \n",
        "    Turn the data from the ‘Education’ column into binary data, by mapping the value of 0 to the values of 1, and the value of 1 to\n",
        "the rest of the values found in this column."
      ]
    },
    {
      "cell_type": "markdown",
      "metadata": {
        "id": "GM43q-_3Ggqk",
        "colab_type": "text"
      },
      "source": [
        "## Start New Session"
      ]
    },
    {
      "cell_type": "markdown",
      "metadata": {
        "id": "YEGOP9OFF-Hr",
        "colab_type": "text"
      },
      "source": [
        "### Connect to Google Drive"
      ]
    },
    {
      "cell_type": "code",
      "metadata": {
        "id": "rTa7ypgjF1WS",
        "colab_type": "code",
        "outputId": "becf9319-62ca-43d3-e8a6-47a30de6eceb",
        "colab": {
          "base_uri": "https://localhost:8080/",
          "height": 34
        }
      },
      "source": [
        "from google.colab import drive\n",
        "drive.mount('/content/drive')"
      ],
      "execution_count": 23,
      "outputs": [
        {
          "output_type": "stream",
          "text": [
            "Drive already mounted at /content/drive; to attempt to forcibly remount, call drive.mount(\"/content/drive\", force_remount=True).\n"
          ],
          "name": "stdout"
        }
      ]
    },
    {
      "cell_type": "markdown",
      "metadata": {
        "id": "WlBnP0WlFuzt",
        "colab_type": "text"
      },
      "source": [
        "### Load a copy of raw data CSV file into memory\n",
        "\n"
      ]
    },
    {
      "cell_type": "code",
      "metadata": {
        "id": "zVPwfFoyFbxp",
        "colab_type": "code",
        "colab": {}
      },
      "source": [
        "import pandas as pd\n",
        "path = '/content/drive/Shared drives/GoogleColab/absenteeism/'\n",
        "raw_csv_data = pd.read_csv(path+'Absenteeism_data.csv')\n",
        "df = raw_csv_data.copy()\n",
        "pd.options.display.max_columns = None\n",
        "pd.options.display.max_rows = None"
      ],
      "execution_count": 0,
      "outputs": []
    },
    {
      "cell_type": "markdown",
      "metadata": {
        "id": "Gd5phT_zQmrL",
        "colab_type": "text"
      },
      "source": [
        "### Drop nominal variable"
      ]
    },
    {
      "cell_type": "code",
      "metadata": {
        "id": "RXPn6o8GQsJE",
        "colab_type": "code",
        "colab": {}
      },
      "source": [
        "df = df.drop(['ID'], axis=1)"
      ],
      "execution_count": 0,
      "outputs": []
    },
    {
      "cell_type": "markdown",
      "metadata": {
        "id": "An6O4cgLT6wP",
        "colab_type": "text"
      },
      "source": [
        "### Create dummy variables for \"Reason for Absence\""
      ]
    },
    {
      "cell_type": "code",
      "metadata": {
        "id": "7khrXYbQUBml",
        "colab_type": "code",
        "outputId": "71324c0d-a10e-432a-8722-fbc7bbfaa537",
        "colab": {
          "base_uri": "https://localhost:8080/",
          "height": 34
        }
      },
      "source": [
        "reason_columns = pd.get_dummies(df['Reason for Absence'])\n",
        "reason_columns['check'] = reason_columns.sum(axis=1)\n",
        "if reason_columns['check'].unique() == 1: print('Categories are mutually exclusive')\n",
        "reason_columns = reason_columns.drop('check', axis=1)\n",
        "reason_columns = pd.get_dummies(df['Reason for Absence'], drop_first=True)"
      ],
      "execution_count": 229,
      "outputs": [
        {
          "output_type": "stream",
          "text": [
            "Categories are mutually exclusive\n"
          ],
          "name": "stdout"
        }
      ]
    },
    {
      "cell_type": "markdown",
      "metadata": {
        "id": "LHrj4jPoScB2",
        "colab_type": "text"
      },
      "source": [
        "### Classify and Group the 'Reasons for Absence'"
      ]
    },
    {
      "cell_type": "code",
      "metadata": {
        "id": "LumtYrATTWoS",
        "colab_type": "code",
        "colab": {}
      },
      "source": [
        "reason_type_1=reason_columns.loc[:,1:14].max(axis=1)\n",
        "reason_type_2=reason_columns.loc[:,15:17].max(axis=1)\n",
        "reason_type_3=reason_columns.loc[:,18:21].max(axis=1)\n",
        "reason_type_4=reason_columns.loc[:,22:].max(axis=1)"
      ],
      "execution_count": 0,
      "outputs": []
    },
    {
      "cell_type": "code",
      "metadata": {
        "id": "Hl19VDc4SiF2",
        "colab_type": "code",
        "colab": {}
      },
      "source": [
        "df = pd.concat([df, reason_type_1, reason_type_2, reason_type_3, reason_type_4], axis=1)"
      ],
      "execution_count": 0,
      "outputs": []
    },
    {
      "cell_type": "code",
      "metadata": {
        "id": "oD7rbQPVU1FZ",
        "colab_type": "code",
        "colab": {}
      },
      "source": [
        "column_names = (df.columns.values).tolist()\n",
        "for i in range(1,5): column_names.pop()\n",
        "for i in range(1,5): column_names.append('reason%s' % i)\n",
        "df.columns = column_names"
      ],
      "execution_count": 0,
      "outputs": []
    },
    {
      "cell_type": "markdown",
      "metadata": {
        "id": "wJLCGEiA30cM",
        "colab_type": "text"
      },
      "source": [
        "### Reorder Columns"
      ]
    },
    {
      "cell_type": "code",
      "metadata": {
        "id": "SY0TWjl2WV84",
        "colab_type": "code",
        "colab": {}
      },
      "source": [
        "column_names_reordered = ['reason1', 'reason2', 'reason3', 'reason4', 'Date', 'Transportation Expense', 'Distance to Work', 'Age', 'Daily Work Load Average', 'Body Mass Index', 'Education', 'Children', 'Pets', 'Absenteeism Time in Hours']\n",
        "df = df[column_names_reordered]"
      ],
      "execution_count": 0,
      "outputs": []
    },
    {
      "cell_type": "markdown",
      "metadata": {
        "id": "zllT_iC_WCzz",
        "colab_type": "text"
      },
      "source": [
        "### Create dummy variable for \"Age\""
      ]
    },
    {
      "cell_type": "code",
      "metadata": {
        "id": "V-Dkx_hrWF0G",
        "colab_type": "code",
        "colab": {}
      },
      "source": [
        "age_column = pd.get_dummies(df['Age'])\n",
        "age_column['check'] = age_column.sum(axis=1)\n",
        "if age_column['check'].unique() == 1: print('Categories are mutually exclusive')\n",
        "age_column = age_column.drop('check', axis=1)\n",
        "df = df.drop('Age', axis=1)\n",
        "df_concatenated = pd.concat([df, age_column], axis=1)\n",
        "df_concatenated.head()"
      ],
      "execution_count": 0,
      "outputs": []
    },
    {
      "cell_type": "code",
      "metadata": {
        "id": "J7CQp35m9eiw",
        "colab_type": "code",
        "colab": {}
      },
      "source": [
        "column_names = ['reason1','reason2','reason3','reason4','Date', 'Transportation Expense',\n",
        "       'Distance to Work', 'Daily Work Load Average', 'Body Mass Index',\n",
        "       'Education', 'Children', 'Pets', 27,\n",
        "       28, 29, 30, 31, 32, 33, 34, 36, 37, 38, 39, 40, 41, 43, 46, 47, 48,\n",
        "       49, 50, 58, 'Absenteeism Time in Hours']\n",
        "df_concatenated = df_concatenated[column_names]\n",
        "df_concatenated.head()"
      ],
      "execution_count": 0,
      "outputs": []
    },
    {
      "cell_type": "code",
      "metadata": {
        "id": "pIov4edp_5-8",
        "colab_type": "code",
        "colab": {}
      },
      "source": [
        "df_reason_mod = df_concatenated.copy()\n"
      ],
      "execution_count": 0,
      "outputs": []
    },
    {
      "cell_type": "code",
      "metadata": {
        "id": "6tkeslx3Asut",
        "colab_type": "code",
        "colab": {}
      },
      "source": [
        "df_reason_mod['Date'] = pd.to_datetime(df_reason_mod['Date'], format='%d/%m/%Y')"
      ],
      "execution_count": 0,
      "outputs": []
    },
    {
      "cell_type": "code",
      "metadata": {
        "id": "wEbQyGtrFKT7",
        "colab_type": "code",
        "colab": {}
      },
      "source": [
        "df_working = df_reason_mod.copy()\n",
        "list_months = []\n",
        "for i in range(df_working.shape[0]):\n",
        "  list_months.append(df_working['Date'][i].month)\n",
        "df_working['Month Value'] = list_months\n",
        "df = df_working.copy()"
      ],
      "execution_count": 0,
      "outputs": []
    },
    {
      "cell_type": "code",
      "metadata": {
        "id": "t_Zvh_a1HcdX",
        "colab_type": "code",
        "colab": {}
      },
      "source": [
        "def date_to_weekday(date_value):\n",
        "  return date_value.weekday()\n",
        "\n",
        "df_working = df.copy()\n",
        "df_working['Day of the Week'] = df_working['Date'].apply(date_to_weekday)\n",
        "df_working = df_working.drop(['Date'],axis=1)\n",
        "df = df_working.copy()"
      ],
      "execution_count": 0,
      "outputs": []
    },
    {
      "cell_type": "code",
      "metadata": {
        "id": "35j8KSkIMiF9",
        "colab_type": "code",
        "colab": {}
      },
      "source": [
        "new_columns = ['reason1', 'reason2', 'reason3', 'reason4','Month Value',\n",
        "               'Day of the Week', 'Transportation Expense', 'Distance to Work',\n",
        "               'Daily Work Load Average', 'Body Mass Index', 'Education',\n",
        "               'Children', 'Pets', 27, 28, 29, 30, 31, 32, 33, 34, 36, 37, 38,\n",
        "               39, 40, 41, 43, 46, 47, 48, 49, 50, 58,\n",
        "               'Absenteeism Time in Hours'\n",
        "               ]\n",
        "df_working = df.copy()\n",
        "df_working = df_working[new_columns]\n",
        "df = df_working.copy()"
      ],
      "execution_count": 0,
      "outputs": []
    },
    {
      "cell_type": "markdown",
      "metadata": {
        "id": "xf7lh-SZQZsC",
        "colab_type": "text"
      },
      "source": [
        "### Re-categorise the Education Column"
      ]
    },
    {
      "cell_type": "code",
      "metadata": {
        "id": "fQK4bBZlQeiq",
        "colab_type": "code",
        "colab": {}
      },
      "source": [
        "df_working = df.copy()\n",
        "df_working['Education'] = df_working['Education'].map({1:0, 2:1, 3:1, 4:1})\n",
        "df = df_working.copy()"
      ],
      "execution_count": 0,
      "outputs": []
    },
    {
      "cell_type": "markdown",
      "metadata": {
        "id": "4GSbKzvxRarD",
        "colab_type": "text"
      },
      "source": [
        "## Final Checks & Export to CSV"
      ]
    },
    {
      "cell_type": "code",
      "metadata": {
        "id": "c2Q2hZYwRego",
        "colab_type": "code",
        "colab": {}
      },
      "source": [
        "df_preprocessed = df.copy()\n",
        "df_preprocessed.head(10)"
      ],
      "execution_count": 0,
      "outputs": []
    },
    {
      "cell_type": "code",
      "metadata": {
        "id": "0xKni2I8SFye",
        "colab_type": "code",
        "colab": {}
      },
      "source": [
        "df_preprocessed.to_csv(path+'Absenteeism_preprocessed.csv', index=False)"
      ],
      "execution_count": 0,
      "outputs": []
    },
    {
      "cell_type": "markdown",
      "metadata": {
        "id": "ECWb39yUGZg1",
        "colab_type": "text"
      },
      "source": [
        "## Close Down Session"
      ]
    },
    {
      "cell_type": "markdown",
      "metadata": {
        "id": "RNnrZWYdGOgI",
        "colab_type": "text"
      },
      "source": [
        "### Flush data to Google Drive and Disconnect"
      ]
    },
    {
      "cell_type": "code",
      "metadata": {
        "id": "ND7sj9WTGUxm",
        "colab_type": "code",
        "outputId": "7dcdea41-dfff-404c-d37b-3e1c613e335d",
        "colab": {
          "base_uri": "https://localhost:8080/",
          "height": 34
        }
      },
      "source": [
        "drive.flush_and_unmount()\n",
        "print('All changes made in this colab session should now be visible in Drive.')"
      ],
      "execution_count": 0,
      "outputs": [
        {
          "output_type": "stream",
          "text": [
            "All changes made in this colab session should now be visible in Drive.\n"
          ],
          "name": "stdout"
        }
      ]
    }
  ]
}